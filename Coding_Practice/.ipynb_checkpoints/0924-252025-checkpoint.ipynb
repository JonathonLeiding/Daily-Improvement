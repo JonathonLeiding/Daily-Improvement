{
 "cells": [
  {
   "cell_type": "markdown",
   "id": "c784bceb-bc55-4898-92ff-98f142d4dcef",
   "metadata": {},
   "source": [
    "# 1249. Minimum Remove to Make Valid Parentheses\n",
    "\n",
    "Given a string of  `'('`, `')'` and lowercase English characters\n",
    "\n",
    "Your task is to remove the minimum number of parentheses (`'('` or `')'`, in any positions) so that the resulting *parentheses string* is valid and return **any** valid string.\n",
    "\n",
    "Formally, a *parentheses string*, is valid if and only if:\n",
    "\n",
    "* It is empty string, contains only lowercase characters, or\n",
    "* It can be written as `AB`(`A` concantenated with `B`), where `A` and `B` are valid strings, or\n",
    "* It can be written as `(A)`, where `A` is a valid string\n",
    "\n",
    "### **Example 1:** \n",
    "   **Input** `s = \"lee(t(c)o)de)\"`\n",
    "\n",
    "   **Ouput:** `\"lee(t(c)o)de\"`\n",
    "\n",
    "   **Explnation:** `\"lee(t(co)de)\"`, `\"lee(t(c)ode)\"` would also be accepted\n",
    "\n",
    "### **Example 2:**\n",
    "    \n",
    "   **Input:** `s = \"a)b(c)d\"`\n",
    "\n",
    "   **Ouput:** `\"ab(c)d\"`\n",
    "\n",
    "### **Example 3:** \n",
    "\n",
    "   **Input:** `s = \"))((\"`\n",
    "\n",
    "   **Ouput:** `\"\"`\n",
    "    \n",
    "   **Explnation:** An empty string is also valid\n",
    "\n",
    "### **Constraints:** \n",
    "\n",
    "* `!,=s.length<= 10^5`\n",
    "\n",
    "* `s[i]` is either `'('` or `')'` or lowercase English letter"
   ]
  },
  {
   "cell_type": "code",
   "execution_count": 1,
   "id": "c371a340-d45f-4636-97f8-3e6eabfc299f",
   "metadata": {},
   "outputs": [],
   "source": [
    "class Solution(object):\n",
    "    def minRemoveToMakeValid(self, s):\n",
    "        \"\"\"\n",
    "        :type s: str\n",
    "        :rtype: str\n",
    "        \"\"\"\n",
    "\n",
    "        return s"
   ]
  },
  {
   "cell_type": "code",
   "execution_count": null,
   "id": "ef77901e-2de1-4b2b-a2e8-7b553e873490",
   "metadata": {},
   "outputs": [],
   "source": []
  }
 ],
 "metadata": {
  "kernelspec": {
   "display_name": "Python 3 (ipykernel)",
   "language": "python",
   "name": "python3"
  },
  "language_info": {
   "codemirror_mode": {
    "name": "ipython",
    "version": 3
   },
   "file_extension": ".py",
   "mimetype": "text/x-python",
   "name": "python",
   "nbconvert_exporter": "python",
   "pygments_lexer": "ipython3",
   "version": "3.13.7"
  }
 },
 "nbformat": 4,
 "nbformat_minor": 5
}
