{
 "cells": [
  {
   "cell_type": "markdown",
   "id": "c784bceb-bc55-4898-92ff-98f142d4dcef",
   "metadata": {},
   "source": [
    "# 1249. Minimum Remove to Make Valid Parentheses\n",
    "\n",
    "Given a string of  `'('`, `')'` and lowercase English characters\n",
    "\n",
    "Your task is to remove the minimum number of parentheses (`'('` or `')'`, in any positions) so that the resulting *parentheses string* is valid and return **any** valid string.\n",
    "\n",
    "Formally, a *parentheses string*, is valid if and only if:\n",
    "\n",
    "* It is empty string, contains only lowercase characters, or\n",
    "* It can be written as `AB`(`A` concantenated with `B`), where `A` and `B` are valid strings, or\n",
    "* It can be written as `(A)`, where `A` is a valid string\n",
    "\n",
    "### **Example 1:** \n",
    "   **Input** `s = \"lee(t(c)o)de)\"`\n",
    "\n",
    "   **Ouput:** `\"lee(t(c)o)de\"`\n",
    "\n",
    "   **Explnation:** `\"lee(t(co)de)\"`, `\"lee(t(c)ode)\"` would also be accepted\n",
    "\n",
    "### **Example 2:**\n",
    "    \n",
    "   **Input:** `s = \"a)b(c)d\"`\n",
    "\n",
    "   **Ouput:** `\"ab(c)d\"`\n",
    "\n",
    "### **Example 3:** \n",
    "\n",
    "   **Input:** `s = \"))((\"`\n",
    "\n",
    "   **Ouput:** `\"\"`\n",
    "    \n",
    "   **Explnation:** An empty string is also valid\n",
    "\n",
    "### **Constraints:** \n",
    "\n",
    "* `1<=s.length<= 10^5`\n",
    "\n",
    "* `s[i]` is either `'('` or `')'` or lowercase English letter"
   ]
  },
  {
   "cell_type": "code",
   "execution_count": 70,
   "id": "c371a340-d45f-4636-97f8-3e6eabfc299f",
   "metadata": {},
   "outputs": [],
   "source": [
    "def minRemoveToMakeValid(s):\n",
    "    \"\"\"\n",
    "        :type s: str\n",
    "        :rtype: str\n",
    "    \"\"\"\n",
    "    i=0\n",
    "    k = len(s)\n",
    "    a= -3\n",
    "    b=1\n",
    "    while a!=b:\n",
    "        a = s.find(\"(\", i, k)\n",
    "        b = s.rfind(\")\", i,k)\n",
    "        print(s)\n",
    "        print(f\"char i:{s[i]}\")\n",
    "        print(f\"a:{a}\")\n",
    "        print(f\"b:{b}\")\n",
    "        print(f\"i:{i}\")\n",
    "        print(f\"k:{k}\")\n",
    "        print(\"\")\n",
    "        \n",
    "        if a==b:\n",
    "            print(\"done\\n\")\n",
    "            break\n",
    "        elif b<a:\n",
    "            print(\"before\\n\")\n",
    "            s = s[:b] + s[b+1:]\n",
    "            \n",
    "            \n",
    "        elif b ==-1:\n",
    "            print(\"no ')' \\n\")\n",
    "            s = s[:a] + s[a+1:]\n",
    "            i = a\n",
    "            k-=1\n",
    "            \n",
    "            \n",
    "        elif a ==-1:\n",
    "            print(f\"s[:b]:{s[:b]}\")\n",
    "            print(f\"s[b+1:]:{s[b+1:]}\")\n",
    "            print(\"no '(' \\n\")\n",
    "            \n",
    "            s = s[:b] + s[b+1:]\n",
    "            i = b\n",
    "            k-=1\n",
    "            \n",
    "            \n",
    "        elif b>a:\n",
    "            print(\"Found \\n\")\n",
    "            i = a+1\n",
    "            k = b\n",
    "            \n",
    "    print(s)   \n",
    "    return s"
   ]
  },
  {
   "cell_type": "code",
   "execution_count": 71,
   "id": "b0e2f463-7913-4b4f-8605-5b21754f9206",
   "metadata": {},
   "outputs": [
    {
     "name": "stderr",
     "output_type": "stream",
     "text": [
      "IOPub data rate exceeded.\n",
      "The Jupyter server will temporarily stop sending output\n",
      "to the client in order to avoid crashing it.\n",
      "To change this limit, set the config variable\n",
      "`--ServerApp.iopub_data_rate_limit`.\n",
      "\n",
      "Current values:\n",
      "ServerApp.iopub_data_rate_limit=1000000.0 (bytes/sec)\n",
      "ServerApp.rate_limit_window=3.0 (secs)\n",
      "\n"
     ]
    },
    {
     "ename": "KeyboardInterrupt",
     "evalue": "",
     "output_type": "error",
     "traceback": [
      "\u001b[31m---------------------------------------------------------------------------\u001b[39m",
      "\u001b[31mKeyboardInterrupt\u001b[39m                         Traceback (most recent call last)",
      "\u001b[36mCell\u001b[39m\u001b[36m \u001b[39m\u001b[32mIn[71]\u001b[39m\u001b[32m, line 1\u001b[39m\n\u001b[32m----> \u001b[39m\u001b[32m1\u001b[39m \u001b[38;5;28mprint\u001b[39m(\u001b[43mminRemoveToMakeValid\u001b[49m\u001b[43m(\u001b[49m\u001b[33;43m\"\u001b[39;49m\u001b[33;43m))((\u001b[39;49m\u001b[33;43m\"\u001b[39;49m\u001b[43m)\u001b[49m)\n",
      "\u001b[36mCell\u001b[39m\u001b[36m \u001b[39m\u001b[32mIn[70]\u001b[39m\u001b[32m, line 11\u001b[39m, in \u001b[36mminRemoveToMakeValid\u001b[39m\u001b[34m(s)\u001b[39m\n\u001b[32m      9\u001b[39m b=\u001b[32m1\u001b[39m\n\u001b[32m     10\u001b[39m \u001b[38;5;28;01mwhile\u001b[39;00m a!=b:\n\u001b[32m---> \u001b[39m\u001b[32m11\u001b[39m     a = \u001b[43ms\u001b[49m\u001b[43m.\u001b[49m\u001b[43mfind\u001b[49m\u001b[43m(\u001b[49m\u001b[33;43m\"\u001b[39;49m\u001b[33;43m(\u001b[39;49m\u001b[33;43m\"\u001b[39;49m\u001b[43m,\u001b[49m\u001b[43m \u001b[49m\u001b[43mi\u001b[49m\u001b[43m,\u001b[49m\u001b[43m \u001b[49m\u001b[43mk\u001b[49m\u001b[43m)\u001b[49m\n\u001b[32m     12\u001b[39m     b = s.rfind(\u001b[33m\"\u001b[39m\u001b[33m)\u001b[39m\u001b[33m\"\u001b[39m, i,k)\n\u001b[32m     13\u001b[39m     \u001b[38;5;28mprint\u001b[39m(s)\n",
      "\u001b[31mKeyboardInterrupt\u001b[39m: "
     ]
    }
   ],
   "source": [
    "print(minRemoveToMakeValid(\"))((\"))"
   ]
  },
  {
   "cell_type": "code",
   "execution_count": null,
   "id": "7658c50e-986f-4109-9cb8-2e13d22aff3b",
   "metadata": {},
   "outputs": [],
   "source": [
    "l = \"012345\"\n",
    "l[:2] + l[2+1:]"
   ]
  },
  {
   "cell_type": "code",
   "execution_count": null,
   "id": "6ef5f9a2-0f0e-4e1f-a88e-e4fed806c16b",
   "metadata": {},
   "outputs": [],
   "source": []
  },
  {
   "cell_type": "code",
   "execution_count": 3,
   "id": "ef77901e-2de1-4b2b-a2e8-7b553e873490",
   "metadata": {},
   "outputs": [],
   "source": [
    "class Solution:\n",
    "    def minRemoveToMakeValid(self, s: str) -> str:\n",
    "        \n",
    "        open = 0\n",
    "        s = list(s)\n",
    "        \n",
    "        for i, c in enumerate(s):\n",
    "            if c == '(': open += 1\n",
    "            elif c == ')':\n",
    "                if not open: s[i] = \"\"\n",
    "                else: open -= 1\n",
    "        \n",
    "        for i in range(len(s)-1, -1, -1):\n",
    "            if not open: break\n",
    "            if s[i] == '(': s[i] = \"\"; open -= 1\n",
    "        \n",
    "        return \"\".join(s)"
   ]
  },
  {
   "cell_type": "code",
   "execution_count": null,
   "id": "05781fbd-3e35-4c59-baff-b866b1da487a",
   "metadata": {},
   "outputs": [],
   "source": []
  }
 ],
 "metadata": {
  "kernelspec": {
   "display_name": "Python 3 (ipykernel)",
   "language": "python",
   "name": "python3"
  },
  "language_info": {
   "codemirror_mode": {
    "name": "ipython",
    "version": 3
   },
   "file_extension": ".py",
   "mimetype": "text/x-python",
   "name": "python",
   "nbconvert_exporter": "python",
   "pygments_lexer": "ipython3",
   "version": "3.13.7"
  }
 },
 "nbformat": 4,
 "nbformat_minor": 5
}
