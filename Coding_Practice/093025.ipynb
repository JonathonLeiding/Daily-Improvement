{
 "cells": [
  {
   "cell_type": "markdown",
   "id": "a3820da0-6e11-4f72-a0bb-e9ed194f8799",
   "metadata": {},
   "source": [
    "# 13. Roman to Integer\n",
    "\n",
    "**Difficulty:** Easy  \n",
    "**Topics:** —  \n",
    "**Companies:** 🔒 (premium)\n",
    "\n",
    "Roman numerals are represented by seven different symbols: **I, V, X, L, C, D, M**.\n",
    "\n",
    "| Symbol | Value |\n",
    "| :----: | ----: |\n",
    "| I      | 1     |\n",
    "| V      | 5     |\n",
    "| X      | 10    |\n",
    "| L      | 50    |\n",
    "| C      | 100   |\n",
    "| D      | 500   |\n",
    "| M      | 1000  |\n",
    "\n",
    "For example, **2** is written as `II` (two ones added together). **12** is written as `XII` (`X + II`). **27** is written as `XXVII` (`XX + V + II`).\n",
    "\n",
    "Roman numerals are usually written from largest to smallest from left to right. However, **4** is not `IIII`; it is written as `IV`—because the one before the five means subtract (4 = 5 − 1). The same principle applies to **9** (`IX`). There are six instances where subtraction is used:\n",
    "\n",
    "- `I` can be placed before `V` (5) and `X` (10) to make **4** and **9**.  \n",
    "- `X` can be placed before `L` (50) and `C` (100) to make **40** and **90**.  \n",
    "- `C` can be placed before `D` (500) and `M` (1000) to make **400** and **900**.\n",
    "\n",
    "**Task:** Given a Roman numeral, convert it to an integer.\n",
    "\n",
    "---\n",
    "\n",
    "## Examples\n",
    "\n",
    "**Example 1**\n",
    "\n",
    "**Input:** `s = \"III\"`  \n",
    "**Output:** `3`  \n",
    "**Explanation:** `III = 3`.\n",
    "\n",
    "**Example 2**\n",
    "\n",
    "**Input:** `s = \"LVIII\"`  \n",
    "**Output:** `58`  \n",
    "**Explanation:** `L = 50`, `V\n"
   ]
  },
  {
   "cell_type": "code",
   "execution_count": 1,
   "id": "7483e2e5-840b-491b-aefc-36f72f08f058",
   "metadata": {},
   "outputs": [],
   "source": [
    "def romanToInt(self, s):\n",
    "        \"\"\"\n",
    "        :type s: str\n",
    "        :rtype: int\n",
    "        \"\"\"\n",
    "        combinations = [\n",
    "            (1000, 'M'),\n",
    "            (900,  'CM'),\n",
    "            (500,  'D'),\n",
    "            (400,  'CD'),\n",
    "            (100,  'C'),\n",
    "            (90,   'XC'),\n",
    "            (50,   'L'),\n",
    "            (40,   'XL'),\n",
    "            (10,   'X'),\n",
    "            (9,    'IX'),\n",
    "            (5,    'V'),\n",
    "            (4,    'IV'),\n",
    "            (1,    'I')\n",
    "        ]\n",
    "        "
   ]
  },
  {
   "cell_type": "code",
   "execution_count": null,
   "id": "462b50eb-746c-49ca-8ade-417075f7908b",
   "metadata": {},
   "outputs": [],
   "source": []
  }
 ],
 "metadata": {
  "kernelspec": {
   "display_name": "Python 3 (ipykernel)",
   "language": "python",
   "name": "python3"
  },
  "language_info": {
   "codemirror_mode": {
    "name": "ipython",
    "version": 3
   },
   "file_extension": ".py",
   "mimetype": "text/x-python",
   "name": "python",
   "nbconvert_exporter": "python",
   "pygments_lexer": "ipython3",
   "version": "3.13.7"
  }
 },
 "nbformat": 4,
 "nbformat_minor": 5
}
