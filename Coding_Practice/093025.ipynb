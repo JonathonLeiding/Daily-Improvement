{
 "cells": [
  {
   "cell_type": "markdown",
   "id": "a3820da0-6e11-4f72-a0bb-e9ed194f8799",
   "metadata": {},
   "source": [
    "# 13. Roman to Integer\n",
    "\n",
    "**Difficulty:** Easy  \n",
    "**Topics:** —  \n",
    "**Companies:** 🔒 (premium)\n",
    "\n",
    "Roman numerals are represented by seven different symbols: **I, V, X, L, C, D, M**.\n",
    "\n",
    "| Symbol | Value |\n",
    "| :----: | ----: |\n",
    "| I      | 1     |\n",
    "| V      | 5     |\n",
    "| X      | 10    |\n",
    "| L      | 50    |\n",
    "| C      | 100   |\n",
    "| D      | 500   |\n",
    "| M      | 1000  |\n",
    "\n",
    "For example, **2** is written as `II` (two ones added together). **12** is written as `XII` (`X + II`). **27** is written as `XXVII` (`XX + V + II`).\n",
    "\n",
    "Roman numerals are usually written from largest to smallest from left to right. However, **4** is not `IIII`; it is written as `IV`—because the one before the five means subtract (4 = 5 − 1). The same principle applies to **9** (`IX`). There are six instances where subtraction is used:\n",
    "\n",
    "- `I` can be placed before `V` (5) and `X` (10) to make **4** and **9**.  \n",
    "- `X` can be placed before `L` (50) and `C` (100) to make **40** and **90**.  \n",
    "- `C` can be placed before `D` (500) and `M` (1000) to make **400** and **900**.\n",
    "\n",
    "**Task:** Given a Roman numeral, convert it to an integer.\n",
    "\n",
    "---\n",
    "\n",
    "## Examples\n",
    "\n",
    "**Example 1**\n",
    "\n",
    "**Input:** `s = \"III\"`  \n",
    "**Output:** `3`  \n",
    "**Explanation:** `III = 3`.\n",
    "\n",
    "**Example 2**\n",
    "\n",
    "**Input:** `s = \"LVIII\"`  \n",
    "**Output:** `58`  \n",
    "**Explanation:** `L = 50`, `V\n"
   ]
  },
  {
   "cell_type": "code",
   "execution_count": 12,
   "id": "7483e2e5-840b-491b-aefc-36f72f08f058",
   "metadata": {},
   "outputs": [],
   "source": [
    "def romanToInt(s):\n",
    "    \"\"\"\n",
    "        :type s: str\n",
    "        :rtype: int\n",
    "    \"\"\"\n",
    "    combinations = [\n",
    "            (900,  'CM'),\n",
    "            (90,   'XC'),\n",
    "            (9,    'IX'),\n",
    "            (400,  'CD'),\n",
    "            (40,   'XL'),\n",
    "            (4,    'IV'),\n",
    "            (500,  'D'),\n",
    "            (50,   'L'),\n",
    "            (5,    'V'),\n",
    "            (1000, 'M'),\n",
    "            (100,  'C'),\n",
    "            (10,   'X'),\n",
    "            (1,    'I')\n",
    "    ]\n",
    "    num = 0\n",
    "    while s:\n",
    "        for value, symbol in combinations:\n",
    "            if symbol in s:\n",
    "                num += value\n",
    "                i = s.find(symbol)\n",
    "                sym_len = len(symbol)\n",
    "                s = s[:i] + s[i+sym_len:]\n",
    "\n",
    "    return num\n",
    "\n",
    "    \n",
    "        "
   ]
  },
  {
   "cell_type": "code",
   "execution_count": 13,
   "id": "462b50eb-746c-49ca-8ade-417075f7908b",
   "metadata": {},
   "outputs": [
    {
     "data": {
      "text/plain": [
       "3908"
      ]
     },
     "execution_count": 13,
     "metadata": {},
     "output_type": "execute_result"
    }
   ],
   "source": [
    "romanToInt(\"MMMCMVIII\")"
   ]
  },
  {
   "cell_type": "markdown",
   "id": "c387ae99-a2c6-4cb5-917d-3330a57c7d0f",
   "metadata": {},
   "source": [
    "<br><br><br>\n",
    "# Best Runtime Solution"
   ]
  },
  {
   "cell_type": "code",
   "execution_count": null,
   "id": "7c65ec6d-e2f0-4845-8d14-695dc287d7d0",
   "metadata": {},
   "outputs": [],
   "source": [
    "class Solution(object):\n",
    "    def romanToInt(self, s):\n",
    "        \"\"\"\n",
    "        :type s: str\n",
    "        :rtype: int\n",
    "        \"\"\"\n",
    "        hashmap={}            \n",
    "        hashmap['I']=1\n",
    "        hashmap['V']=5\n",
    "        hashmap['X']=10        \n",
    "        hashmap['L']=50\n",
    "        hashmap['C']=100\n",
    "        hashmap['D']=500\n",
    "        hashmap['M']=1000\n",
    "        n=0\n",
    "        s=s.replace('IV','IIII').replace('IX','VIIII')\n",
    "        s=s.replace('XL','XXXX').replace('XC','LXXXX')\n",
    "        s=s.replace('CD','CCCC').replace('CM','DCCCC')\n",
    "        for char in s:\n",
    "            n+=hashmap[char]\n",
    "        return n"
   ]
  },
  {
   "cell_type": "markdown",
   "id": "5c3cc1d1-4414-4255-a295-50415c036208",
   "metadata": {},
   "source": [
    "<br><br><br>\n",
    "# Best Memory Solution"
   ]
  },
  {
   "cell_type": "code",
   "execution_count": null,
   "id": "4d31d0c8-46ce-49a6-b618-4e63e4d8e57f",
   "metadata": {},
   "outputs": [],
   "source": [
    "class Solution(object):\n",
    "    def romanToInt(self, s):\n",
    "        \"\"\"\n",
    "        :type s: str\n",
    "        :rtype: int\n",
    "        \"\"\"\n",
    "        romVals = {'I':1, 'V':5, 'X':10, 'L':50, 'C':100, 'D':500, 'M':1000}\n",
    "        val = romVals[s[-1]]\n",
    "        i = len(s)-2\n",
    "\n",
    "        while i>-1:\n",
    "            if romVals[s[i+1]]>romVals[s[i]]:\n",
    "                val-=romVals[s[i]]\n",
    "            else:\n",
    "                val+=romVals[s[i]]\n",
    "            i-=1\n",
    "\n",
    "        return val\n",
    "        "
   ]
  },
  {
   "cell_type": "raw",
   "id": "46f01d4e-fcf3-4b35-bebf-a4ad9cb2fdce",
   "metadata": {},
   "source": [
    "Note that this algorithm checks whether to add or subtract a value based on the next value in the string and goes till the end by reducing the index checker i. It assigns val intially by looking up the last symbol/char in the string which would ensure there is no string out of bounds errors."
   ]
  },
  {
   "cell_type": "code",
   "execution_count": null,
   "id": "f9f5244e-79df-4986-ae83-7369f0ad0526",
   "metadata": {},
   "outputs": [],
   "source": []
  }
 ],
 "metadata": {
  "kernelspec": {
   "display_name": "Python 3 (ipykernel)",
   "language": "python",
   "name": "python3"
  },
  "language_info": {
   "codemirror_mode": {
    "name": "ipython",
    "version": 3
   },
   "file_extension": ".py",
   "mimetype": "text/x-python",
   "name": "python",
   "nbconvert_exporter": "python",
   "pygments_lexer": "ipython3",
   "version": "3.13.7"
  }
 },
 "nbformat": 4,
 "nbformat_minor": 5
}
